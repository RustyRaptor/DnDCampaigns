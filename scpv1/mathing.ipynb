{
 "cells": [
  {
   "cell_type": "code",
   "execution_count": 1,
   "id": "4169aae3",
   "metadata": {},
   "outputs": [],
   "source": [
    "\"\"\"\n",
    "Swagolas: 25\n",
    "Isaac: 19\n",
    "Marvin: 17\n",
    "Constructs: 17\n",
    "Woman: 7\n",
    "Memo: 1\n",
    "Herbert: 1\n",
    "\n",
    "A90-6\n",
    "B90-12\n",
    "c90-12\n",
    "D90-12\n",
    "E85\n",
    "\n",
    "\n",
    "B,C,D half speed\n",
    "\"\"\"\n",
    "\n",
    "A = 90 - 6\n",
    "B = 90 - 12\n",
    "C = 90 - 12\n",
    "D = 90 - 12\n",
    "E = 85"
   ]
  },
  {
   "cell_type": "code",
   "execution_count": 2,
   "id": "9f359029",
   "metadata": {},
   "outputs": [],
   "source": [
    "A -= 11\n",
    "B -= 12\n",
    "C -= 18\n",
    "D -= 11\n"
   ]
  },
  {
   "cell_type": "code",
   "execution_count": 3,
   "id": "70e88673",
   "metadata": {},
   "outputs": [],
   "source": [
    "# 7, 14, 14, 17\n",
    "A -= 7\n",
    "B -= 14\n",
    "C -= 14\n",
    "D -= 17"
   ]
  },
  {
   "cell_type": "code",
   "execution_count": 4,
   "id": "3c79680b",
   "metadata": {},
   "outputs": [
    {
     "name": "stdout",
     "output_type": "stream",
     "text": [
      "66 52 46 50 85\n"
     ]
    }
   ],
   "source": [
    "print(A, B, C, D, E)"
   ]
  },
  {
   "cell_type": "code",
   "execution_count": 5,
   "id": "f9524e31",
   "metadata": {},
   "outputs": [],
   "source": [
    "A -= 15"
   ]
  },
  {
   "cell_type": "code",
   "execution_count": 6,
   "id": "a13213cf",
   "metadata": {},
   "outputs": [
    {
     "name": "stdout",
     "output_type": "stream",
     "text": [
      "51 52 46 50 85\n"
     ]
    }
   ],
   "source": [
    "print(A, B, C, D, E)"
   ]
  },
  {
   "cell_type": "code",
   "execution_count": 7,
   "id": "07f79ce1",
   "metadata": {},
   "outputs": [],
   "source": [
    "A -= 12"
   ]
  },
  {
   "cell_type": "code",
   "execution_count": 8,
   "id": "63398a98",
   "metadata": {},
   "outputs": [
    {
     "name": "stdout",
     "output_type": "stream",
     "text": [
      "39 52 46 50 85\n"
     ]
    }
   ],
   "source": [
    "print(A, B, C, D, E)"
   ]
  },
  {
   "cell_type": "code",
   "execution_count": 9,
   "id": "173f6ca9",
   "metadata": {},
   "outputs": [],
   "source": [
    "E -= 16"
   ]
  },
  {
   "cell_type": "code",
   "execution_count": 10,
   "id": "fe7cb4f9",
   "metadata": {},
   "outputs": [
    {
     "name": "stdout",
     "output_type": "stream",
     "text": [
      "39 52 46 50 69\n"
     ]
    }
   ],
   "source": [
    "print(A, B, C, D, E)"
   ]
  },
  {
   "cell_type": "code",
   "execution_count": 11,
   "id": "cd6def47",
   "metadata": {},
   "outputs": [],
   "source": [
    "E -= 20"
   ]
  },
  {
   "cell_type": "code",
   "execution_count": 12,
   "id": "650db5fd",
   "metadata": {},
   "outputs": [
    {
     "name": "stdout",
     "output_type": "stream",
     "text": [
      "39 52 46 50 49\n"
     ]
    }
   ],
   "source": [
    "print(A, B, C, D, E)"
   ]
  },
  {
   "cell_type": "code",
   "execution_count": 13,
   "id": "37ed5008",
   "metadata": {},
   "outputs": [
    {
     "name": "stdout",
     "output_type": "stream",
     "text": [
      "28 31 30 32 49\n"
     ]
    }
   ],
   "source": [
    "# 11, 21, 16, 18\n",
    "A -= 11\n",
    "B -= 21\n",
    "C -= 16\n",
    "D -= 18\n",
    "print(A, B, C, D, E)"
   ]
  },
  {
   "cell_type": "code",
   "execution_count": 14,
   "id": "ac70acc3",
   "metadata": {},
   "outputs": [],
   "source": [
    "E -= 30"
   ]
  },
  {
   "cell_type": "code",
   "execution_count": 15,
   "id": "3eaecfbe",
   "metadata": {},
   "outputs": [
    {
     "name": "stdout",
     "output_type": "stream",
     "text": [
      "28 31 30 32 19\n"
     ]
    }
   ],
   "source": [
    "print(A, B, C, D, E)"
   ]
  },
  {
   "cell_type": "code",
   "execution_count": 16,
   "id": "1162c51f",
   "metadata": {},
   "outputs": [
    {
     "name": "stdout",
     "output_type": "stream",
     "text": [
      "14 20 17 14 19\n"
     ]
    }
   ],
   "source": [
    "# 14, 11, 13, 18\n",
    "A -= 14\n",
    "B -= 11\n",
    "C -= 13\n",
    "D -= 18\n",
    "print(A, B, C, D, E)"
   ]
  },
  {
   "cell_type": "code",
   "execution_count": 17,
   "id": "266d1888",
   "metadata": {},
   "outputs": [
    {
     "data": {
      "text/plain": [
       "225"
      ]
     },
     "execution_count": 17,
     "metadata": {},
     "output_type": "execute_result"
    }
   ],
   "source": [
    "15 * 15"
   ]
  },
  {
   "cell_type": "code",
   "execution_count": 18,
   "id": "f87bb2ab",
   "metadata": {},
   "outputs": [],
   "source": [
    "B -= 1"
   ]
  },
  {
   "cell_type": "code",
   "execution_count": 19,
   "id": "0833e162",
   "metadata": {},
   "outputs": [
    {
     "name": "stdout",
     "output_type": "stream",
     "text": [
      "1 2 -1 1 19\n"
     ]
    }
   ],
   "source": [
    "# 13, 17, 18, 13\n",
    "A -= 13\n",
    "B -= 17\n",
    "C -= 18\n",
    "D -= 13\n",
    "\n",
    "print(A, B, C, D, E)"
   ]
  },
  {
   "cell_type": "code",
   "execution_count": 5,
   "id": "1050fcc1",
   "metadata": {},
   "outputs": [],
   "source": [
    "herbert = {\n",
    "        \"init\": 10,\n",
    "        \"name\": \"Herbert\",\n",
    "}\n",
    "\n",
    "angler = {\n",
    "        \"init\": 3,\n",
    "        \"hit points\": 136-25,\n",
    "        \"name\": \"Angler\",\n",
    "}\n",
    "\n",
    "marvin = {\n",
    "        \"init\": 11,\n",
    "        \"name\": \"Marvin\",\n",
    "}\n",
    "\n",
    "swagolas = {\n",
    "        \"init\": 16,\n",
    "        \"name\": \"Swagolas\",\n",
    "}\n",
    "memo = {\n",
    "        \"init\": 1,\n",
    "        \"name\": \"Memo\",\n",
    "}"
   ]
  },
  {
   "cell_type": "code",
   "execution_count": 7,
   "id": "2ad8feb9",
   "metadata": {},
   "outputs": [
    {
     "name": "stdout",
     "output_type": "stream",
     "text": [
      "turn order:\n",
      "Swagolas (16)\n",
      "Marvin (11)\n",
      "Herbert (10)\n",
      "Angler (3)\n",
      "Memo (1)\n"
     ]
    }
   ],
   "source": [
    "# sort by initiative\n",
    "def sort_by_initiative(entities):\n",
    "    return sorted(entities, key=lambda x: x[\"init\"], reverse=True)\n",
    "\n",
    "print(\"turn order:\")\n",
    "initiative = sort_by_initiative([herbert, angler, marvin, swagolas, memo])\n",
    "for entity in initiative:\n",
    "    print(f\"{entity['name']} ({entity['init']})\")\n"
   ]
  },
  {
   "cell_type": "code",
   "execution_count": 8,
   "id": "59aad55a",
   "metadata": {},
   "outputs": [],
   "source": [
    "angler[\"hit points\"] -= 10"
   ]
  },
  {
   "cell_type": "code",
   "execution_count": 9,
   "id": "27d9acb0",
   "metadata": {},
   "outputs": [],
   "source": [
    "angler[\"hit points\"] -= 3"
   ]
  },
  {
   "cell_type": "code",
   "execution_count": 10,
   "id": "3fb51741",
   "metadata": {},
   "outputs": [],
   "source": [
    "angler[\"hit points\"] -= 18"
   ]
  },
  {
   "cell_type": "code",
   "execution_count": 12,
   "id": "4f726201",
   "metadata": {},
   "outputs": [],
   "source": [
    "angler[\"hit points\"] -= 13"
   ]
  },
  {
   "cell_type": "code",
   "execution_count": 14,
   "id": "697c40ec",
   "metadata": {},
   "outputs": [],
   "source": [
    "angler[\"hit points\"] -= 38"
   ]
  },
  {
   "cell_type": "code",
   "execution_count": 16,
   "id": "29877bb8",
   "metadata": {},
   "outputs": [],
   "source": [
    "angler[\"hit points\"] -= 4"
   ]
  },
  {
   "cell_type": "code",
   "execution_count": 18,
   "id": "9329cabf",
   "metadata": {},
   "outputs": [],
   "source": [
    "angler[\"hit points\"] -= 13"
   ]
  },
  {
   "cell_type": "code",
   "execution_count": 20,
   "id": "af69a9e2",
   "metadata": {},
   "outputs": [],
   "source": [
    "angler[\"hit points\"] -= 7"
   ]
  },
  {
   "cell_type": "code",
   "execution_count": 21,
   "id": "3a74e285",
   "metadata": {},
   "outputs": [
    {
     "data": {
      "text/plain": [
       "5"
      ]
     },
     "execution_count": 21,
     "metadata": {},
     "output_type": "execute_result"
    }
   ],
   "source": [
    "angler[\"hit points\"]"
   ]
  },
  {
   "cell_type": "code",
   "execution_count": null,
   "id": "7886d9c2",
   "metadata": {},
   "outputs": [],
   "source": []
  }
 ],
 "metadata": {
  "kernelspec": {
   "display_name": ".venv",
   "language": "python",
   "name": "python3"
  },
  "language_info": {
   "codemirror_mode": {
    "name": "ipython",
    "version": 3
   },
   "file_extension": ".py",
   "mimetype": "text/x-python",
   "name": "python",
   "nbconvert_exporter": "python",
   "pygments_lexer": "ipython3",
   "version": "3.13.3"
  }
 },
 "nbformat": 4,
 "nbformat_minor": 5
}
