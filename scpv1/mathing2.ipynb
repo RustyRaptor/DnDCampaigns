{
 "cells": [
  {
   "cell_type": "code",
   "execution_count": 1,
   "id": "5a9c4421-4f57-4173-9242-9cd68e930743",
   "metadata": {},
   "outputs": [
    {
     "name": "stdout",
     "output_type": "stream",
     "text": [
      "huh\n"
     ]
    }
   ],
   "source": [
    "print(\"huh\")"
   ]
  },
  {
   "cell_type": "code",
   "execution_count": null,
   "id": "680cfd63-458a-4a0c-a69c-5dee8dcd7fab",
   "metadata": {},
   "outputs": [],
   "source": []
  }
 ],
 "metadata": {
  "kernelspec": {
   "display_name": "Python 3 (ipykernel)",
   "language": "python",
   "name": "python3"
  },
  "language_info": {
   "codemirror_mode": {
    "name": "ipython",
    "version": 3
   },
   "file_extension": ".py",
   "mimetype": "text/x-python",
   "name": "python",
   "nbconvert_exporter": "python",
   "pygments_lexer": "ipython3",
   "version": "3.13.5"
  }
 },
 "nbformat": 4,
 "nbformat_minor": 5
}
