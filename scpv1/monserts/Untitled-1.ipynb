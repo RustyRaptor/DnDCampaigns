{
 "cells": [
  {
   "cell_type": "code",
   "execution_count": 2,
   "id": "0aa0d110",
   "metadata": {},
   "outputs": [
    {
     "data": {
      "text/plain": [
       "{'https://excalidraw.com/?element=nHPujcEOsWXTvOi7ik-xN#room=443f5748832a6c7bb3e7,a1MLu0168L0MsIcV6AC5tA': 8,\n",
       " 'https://excalidraw.com/?element=eGAJQRjmdZWEVpLaR6UHa#room=443f5748832a6c7bb3e7,a1MLu0168L0MsIcV6AC5tA': 8,\n",
       " 'https://excalidraw.com/?element=sEUIVNWD7NJGUIhuvuy_J#room=443f5748832a6c7bb3e7,a1MLu0168L0MsIcV6AC5tA': 8,\n",
       " 'https://excalidraw.com/?element=Xyj0Mt-cE6JSSWUnYU7e9#room=443f5748832a6c7bb3e7,a1MLu0168L0MsIcV6AC5tA': 8,\n",
       " 'https://excalidraw.com/?element=9AWYA2xXOClAkKz4o9toi#room=443f5748832a6c7bb3e7,a1MLu0168L0MsIcV6AC5tA': 8,\n",
       " 'https://excalidraw.com/?element=_kQ4Fa0_NllmOLPT7F0xq#room=443f5748832a6c7bb3e7,a1MLu0168L0MsIcV6AC5tA': 8,\n",
       " 'https://excalidraw.com/?element=A1GUXwZL0JZu1em011P7z#room=443f5748832a6c7bb3e7,a1MLu0168L0MsIcV6AC5tA': 8,\n",
       " 'https://excalidraw.com/?element=14-8raCtdYBPPDOLyFPxR#room=443f5748832a6c7bb3e7,a1MLu0168L0MsIcV6AC5tA': 8,\n",
       " 'https://excalidraw.com/?element=pkauQNfGLuMl6zj3yE0kt#room=443f5748832a6c7bb3e7,a1MLu0168L0MsIcV6AC5tA': 8,\n",
       " 'https://excalidraw.com/?element=IEUHmMdgRoS7k6rjoD_sT#room=443f5748832a6c7bb3e7,a1MLu0168L0MsIcV6AC5tA': 8,\n",
       " 'https://excalidraw.com/?element=9INLqRQAtbsJ6bFRFwUF7#room=443f5748832a6c7bb3e7,a1MLu0168L0MsIcV6AC5tA': 8,\n",
       " 'https://excalidraw.com/?element=Hd1_fxda4Tz5KBbMZz_Pb#room=443f5748832a6c7bb3e7,a1MLu0168L0MsIcV6AC5tA': 8,\n",
       " 'https://excalidraw.com/?element=6lg-Jsx8qgWH3pEDH4U-5#room=443f5748832a6c7bb3e7,a1MLu0168L0MsIcV6AC5tA': 8}"
      ]
     },
     "execution_count": 2,
     "metadata": {},
     "output_type": "execute_result"
    }
   ],
   "source": [
    "keys = [\n",
    "        \"https://excalidraw.com/?element=pkauQNfGLuMl6zj3yE0kt#room=443f5748832a6c7bb3e7,a1MLu0168L0MsIcV6AC5tA\",\n",
    "        \"https://excalidraw.com/?element=6lg-Jsx8qgWH3pEDH4U-5#room=443f5748832a6c7bb3e7,a1MLu0168L0MsIcV6AC5tA\",\n",
    "        \"https://excalidraw.com/?element=pkauQNfGLuMl6zj3yE0kt#room=443f5748832a6c7bb3e7,a1MLu0168L0MsIcV6AC5tA\",\n",
    "        \"https://excalidraw.com/?element=IEUHmMdgRoS7k6rjoD_sT#room=443f5748832a6c7bb3e7,a1MLu0168L0MsIcV6AC5tA\",\n",
    "        \"https://excalidraw.com/?element=9AWYA2xXOClAkKz4o9toi#room=443f5748832a6c7bb3e7,a1MLu0168L0MsIcV6AC5tA\",\n",
    "        \"https://excalidraw.com/?element=9INLqRQAtbsJ6bFRFwUF7#room=443f5748832a6c7bb3e7,a1MLu0168L0MsIcV6AC5tA\",\n",
    "        \"https://excalidraw.com/?element=eGAJQRjmdZWEVpLaR6UHa#room=443f5748832a6c7bb3e7,a1MLu0168L0MsIcV6AC5tA\",\n",
    "        \"https://excalidraw.com/?element=A1GUXwZL0JZu1em011P7z#room=443f5748832a6c7bb3e7,a1MLu0168L0MsIcV6AC5tA\",\n",
    "        \"https://excalidraw.com/?element=_kQ4Fa0_NllmOLPT7F0xq#room=443f5748832a6c7bb3e7,a1MLu0168L0MsIcV6AC5tA\",\n",
    "        \"https://excalidraw.com/?element=sEUIVNWD7NJGUIhuvuy_J#room=443f5748832a6c7bb3e7,a1MLu0168L0MsIcV6AC5tA\",\n",
    "        \"https://excalidraw.com/?element=nHPujcEOsWXTvOi7ik-xN#room=443f5748832a6c7bb3e7,a1MLu0168L0MsIcV6AC5tA\",\n",
    "        \"https://excalidraw.com/?element=14-8raCtdYBPPDOLyFPxR#room=443f5748832a6c7bb3e7,a1MLu0168L0MsIcV6AC5tA\",\n",
    "        \"https://excalidraw.com/?element=9INLqRQAtbsJ6bFRFwUF7#room=443f5748832a6c7bb3e7,a1MLu0168L0MsIcV6AC5tA\",\n",
    "        \"https://excalidraw.com/?element=Hd1_fxda4Tz5KBbMZz_Pb#room=443f5748832a6c7bb3e7,a1MLu0168L0MsIcV6AC5tA\",\n",
    "        \"https://excalidraw.com/?element=IEUHmMdgRoS7k6rjoD_sT#room=443f5748832a6c7bb3e7,a1MLu0168L0MsIcV6AC5tA\",\n",
    "        \"https://excalidraw.com/?element=pkauQNfGLuMl6zj3yE0kt#room=443f5748832a6c7bb3e7,a1MLu0168L0MsIcV6AC5tA\",\n",
    "        \"https://excalidraw.com/?element=Xyj0Mt-cE6JSSWUnYU7e9#room=443f5748832a6c7bb3e7,a1MLu0168L0MsIcV6AC5tA\"\n",
    "        \n",
    "]\n",
    "\n",
    "keys_dict = {\n",
    "        key: 8 for key in set(keys)\n",
    "}\n",
    "\n",
    "keys_dict\n",
    "        \n"
   ]
  },
  {
   "cell_type": "code",
   "execution_count": 2,
   "id": "e5a7d5c9",
   "metadata": {},
   "outputs": [],
   "source": [
    "keys_dict[\"https://excalidraw.com/?element=6lg-Jsx8qgWH3pEDH4U-5#room=443f5748832a6c7bb3e7,a1MLu0168L0MsIcV6AC5tA\"] = 0"
   ]
  },
  {
   "cell_type": "code",
   "execution_count": 3,
   "id": "eb9cfb45",
   "metadata": {},
   "outputs": [],
   "source": [
    "keys_dict[\"https://excalidraw.com/?element=IEUHmMdgRoS7k6rjoD_sT#room=443f5748832a6c7bb3e7,a1MLu0168L0MsIcV6AC5tA\"] =0 "
   ]
  },
  {
   "cell_type": "code",
   "execution_count": 4,
   "id": "dddec888",
   "metadata": {},
   "outputs": [],
   "source": [
    "keys_dict[\"https://excalidraw.com/?element=eGAJQRjmdZWEVpLaR6UHa#room=443f5748832a6c7bb3e7,a1MLu0168L0MsIcV6AC5tA\"] = 0"
   ]
  },
  {
   "cell_type": "code",
   "execution_count": 5,
   "id": "40098371",
   "metadata": {},
   "outputs": [],
   "source": [
    "keys_dict[\"https://excalidraw.com/?element=Xyj0Mt-cE6JSSWUnYU7e9#room=443f5748832a6c7bb3e7,a1MLu0168L0MsIcV6AC5tA\"] = 0"
   ]
  },
  {
   "cell_type": "code",
   "execution_count": 6,
   "id": "8b97d426",
   "metadata": {},
   "outputs": [],
   "source": [
    "keys_dict[\"https://excalidraw.com/?element=nHPujcEOsWXTvOi7ik-xN#room=443f5748832a6c7bb3e7,a1MLu0168L0MsIcV6AC5tA\"] = 2"
   ]
  },
  {
   "cell_type": "code",
   "execution_count": 7,
   "id": "8b684a57",
   "metadata": {},
   "outputs": [],
   "source": [
    "keys_dict[\"https://excalidraw.com/?element=_kQ4Fa0_NllmOLPT7F0xq#room=443f5748832a6c7bb3e7,a1MLu0168L0MsIcV6AC5tA\"] = 3"
   ]
  },
  {
   "cell_type": "code",
   "execution_count": 8,
   "id": "789a2d34",
   "metadata": {},
   "outputs": [],
   "source": [
    "keys_dict[\"https://excalidraw.com/?element=9INLqRQAtbsJ6bFRFwUF7#room=443f5748832a6c7bb3e7,a1MLu0168L0MsIcV6AC5tA\"] = 4"
   ]
  },
  {
   "cell_type": "code",
   "execution_count": 10,
   "id": "43f15429",
   "metadata": {},
   "outputs": [],
   "source": [
    "# keys_dict[\"https://excalidraw.com/?element=14-8raCtdYBPPDOLyFPxR#room=443f5748832a6c7bb3e7,a1MLu0168L0MsIcV6AC5tA\"] = "
   ]
  },
  {
   "cell_type": "code",
   "execution_count": 11,
   "id": "364ce638",
   "metadata": {},
   "outputs": [],
   "source": [
    "keys_dict[\"https://excalidraw.com/?element=Hd1_fxda4Tz5KBbMZz_Pb#room=443f5748832a6c7bb3e7,a1MLu0168L0MsIcV6AC5tA\"] -= 7"
   ]
  },
  {
   "cell_type": "code",
   "execution_count": 12,
   "id": "ad5e993d",
   "metadata": {},
   "outputs": [],
   "source": [
    "keys_dict[\"https://excalidraw.com/?element=_kQ4Fa0_NllmOLPT7F0xq#room=443f5748832a6c7bb3e7,a1MLu0168L0MsIcV6AC5tA\"] -= 3"
   ]
  },
  {
   "cell_type": "code",
   "execution_count": 13,
   "id": "56a9044c",
   "metadata": {},
   "outputs": [
    {
     "data": {
      "text/plain": [
       "1"
      ]
     },
     "execution_count": 13,
     "metadata": {},
     "output_type": "execute_result"
    }
   ],
   "source": [
    "keys_dict[\"https://excalidraw.com/?element=Hd1_fxda4Tz5KBbMZz_Pb#room=443f5748832a6c7bb3e7,a1MLu0168L0MsIcV6AC5tA\"]"
   ]
  },
  {
   "cell_type": "code",
   "execution_count": 15,
   "id": "0fda529a",
   "metadata": {},
   "outputs": [
    {
     "name": "stdout",
     "output_type": "stream",
     "text": [
      "dict_values([2, 8, 4, 8, 0, 0, 0, 0, 0, 8, 1, 8, 8])\n"
     ]
    }
   ],
   "source": [
    "print(keys_dict.values())"
   ]
  },
  {
   "cell_type": "code",
   "execution_count": 16,
   "id": "8f5e4453",
   "metadata": {},
   "outputs": [],
   "source": [
    "hp = keys_dict.values()"
   ]
  },
  {
   "cell_type": "code",
   "execution_count": 19,
   "id": "006bea88",
   "metadata": {},
   "outputs": [],
   "source": [
    "hp = list(hp)"
   ]
  },
  {
   "cell_type": "code",
   "execution_count": 21,
   "id": "82eab0d6",
   "metadata": {},
   "outputs": [],
   "source": [
    "hp[1] -= 2"
   ]
  },
  {
   "cell_type": "code",
   "execution_count": 22,
   "id": "edbdca1d",
   "metadata": {},
   "outputs": [],
   "source": [
    "hp[9] -= 2"
   ]
  },
  {
   "cell_type": "code",
   "execution_count": 23,
   "id": "4c43c5dc",
   "metadata": {},
   "outputs": [
    {
     "data": {
      "text/plain": [
       "6"
      ]
     },
     "execution_count": 23,
     "metadata": {},
     "output_type": "execute_result"
    }
   ],
   "source": [
    "hp[1]"
   ]
  },
  {
   "cell_type": "code",
   "execution_count": 24,
   "id": "c2faf269",
   "metadata": {},
   "outputs": [
    {
     "data": {
      "text/plain": [
       "6"
      ]
     },
     "execution_count": 24,
     "metadata": {},
     "output_type": "execute_result"
    }
   ],
   "source": [
    "hp[9]"
   ]
  },
  {
   "cell_type": "code",
   "execution_count": 26,
   "id": "d0291ecc",
   "metadata": {},
   "outputs": [
    {
     "data": {
      "text/plain": [
       "[2, 6, 4, 8, 0, 0, 0, 0, 0, 6, 1, 8, 8]"
      ]
     },
     "execution_count": 26,
     "metadata": {},
     "output_type": "execute_result"
    }
   ],
   "source": [
    "hp"
   ]
  },
  {
   "cell_type": "code",
   "execution_count": 27,
   "id": "ef13d1c1",
   "metadata": {},
   "outputs": [],
   "source": [
    "hp.append(24)"
   ]
  },
  {
   "cell_type": "code",
   "execution_count": 28,
   "id": "1736ebf3",
   "metadata": {},
   "outputs": [
    {
     "data": {
      "text/plain": [
       "24"
      ]
     },
     "execution_count": 28,
     "metadata": {},
     "output_type": "execute_result"
    }
   ],
   "source": [
    "hp[13]"
   ]
  },
  {
   "cell_type": "code",
   "execution_count": 29,
   "id": "35e53110",
   "metadata": {},
   "outputs": [],
   "source": [
    "hp[13]  -= 6/2"
   ]
  },
  {
   "cell_type": "code",
   "execution_count": 30,
   "id": "c33bd7db",
   "metadata": {},
   "outputs": [
    {
     "data": {
      "text/plain": [
       "[2, 6, 4, 8, 0, 0, 0, 0, 0, 6, 1, 8, 8, 21.0]"
      ]
     },
     "execution_count": 30,
     "metadata": {},
     "output_type": "execute_result"
    }
   ],
   "source": [
    "hp"
   ]
  },
  {
   "cell_type": "code",
   "execution_count": 31,
   "id": "b2d16d43",
   "metadata": {},
   "outputs": [],
   "source": [
    "hp[2] -= 4"
   ]
  },
  {
   "cell_type": "code",
   "execution_count": 32,
   "id": "4e26a77c",
   "metadata": {},
   "outputs": [
    {
     "data": {
      "text/plain": [
       "0"
      ]
     },
     "execution_count": 32,
     "metadata": {},
     "output_type": "execute_result"
    }
   ],
   "source": [
    "hp[2]"
   ]
  },
  {
   "cell_type": "code",
   "execution_count": 33,
   "id": "db7ccf72",
   "metadata": {},
   "outputs": [],
   "source": [
    "hp[0] -= 5"
   ]
  },
  {
   "cell_type": "code",
   "execution_count": 34,
   "id": "94ebd10f",
   "metadata": {},
   "outputs": [
    {
     "data": {
      "text/plain": [
       "[-3, 6, 0, 8, 0, 0, 0, 0, 0, 6, 1, 8, 8, 21.0]"
      ]
     },
     "execution_count": 34,
     "metadata": {},
     "output_type": "execute_result"
    }
   ],
   "source": [
    "hp"
   ]
  },
  {
   "cell_type": "code",
   "execution_count": 35,
   "id": "be52d6b5",
   "metadata": {},
   "outputs": [
    {
     "data": {
      "text/plain": [
       "6"
      ]
     },
     "execution_count": 35,
     "metadata": {},
     "output_type": "execute_result"
    }
   ],
   "source": [
    "hp[1]"
   ]
  },
  {
   "cell_type": "code",
   "execution_count": 36,
   "id": "e09b76b7",
   "metadata": {},
   "outputs": [],
   "source": [
    "hp[1] -= 13"
   ]
  },
  {
   "cell_type": "code",
   "execution_count": 37,
   "id": "a87fb1e2",
   "metadata": {},
   "outputs": [],
   "source": [
    "hp[11] -= 5"
   ]
  },
  {
   "cell_type": "code",
   "execution_count": 38,
   "id": "78e9784b",
   "metadata": {},
   "outputs": [
    {
     "data": {
      "text/plain": [
       "3"
      ]
     },
     "execution_count": 38,
     "metadata": {},
     "output_type": "execute_result"
    }
   ],
   "source": [
    "hp[11]"
   ]
  },
  {
   "cell_type": "code",
   "execution_count": 39,
   "id": "ea712356",
   "metadata": {},
   "outputs": [],
   "source": [
    "hp[13] -= 15/2"
   ]
  },
  {
   "cell_type": "code",
   "execution_count": 40,
   "id": "193830f6",
   "metadata": {},
   "outputs": [
    {
     "data": {
      "text/plain": [
       "[-3, -7, 0, 8, 0, 0, 0, 0, 0, 6, 1, 3, 8, 13.5]"
      ]
     },
     "execution_count": 40,
     "metadata": {},
     "output_type": "execute_result"
    }
   ],
   "source": [
    "hp"
   ]
  },
  {
   "cell_type": "code",
   "execution_count": 41,
   "id": "df93dc0e",
   "metadata": {},
   "outputs": [],
   "source": [
    "hp[11] -= 6"
   ]
  },
  {
   "cell_type": "code",
   "execution_count": 42,
   "id": "7ce6d8f7",
   "metadata": {},
   "outputs": [
    {
     "data": {
      "text/plain": [
       "-3"
      ]
     },
     "execution_count": 42,
     "metadata": {},
     "output_type": "execute_result"
    }
   ],
   "source": [
    "hp[11]"
   ]
  },
  {
   "cell_type": "code",
   "execution_count": 43,
   "id": "4dd46de7",
   "metadata": {},
   "outputs": [],
   "source": [
    "hp[9] -= 13"
   ]
  },
  {
   "cell_type": "code",
   "execution_count": 44,
   "id": "34db1746",
   "metadata": {},
   "outputs": [
    {
     "data": {
      "text/plain": [
       "-7"
      ]
     },
     "execution_count": 44,
     "metadata": {},
     "output_type": "execute_result"
    }
   ],
   "source": [
    "hp[9]"
   ]
  },
  {
   "cell_type": "code",
   "execution_count": 45,
   "id": "d414a077",
   "metadata": {},
   "outputs": [
    {
     "data": {
      "text/plain": [
       "8"
      ]
     },
     "execution_count": 45,
     "metadata": {},
     "output_type": "execute_result"
    }
   ],
   "source": [
    "hp[12]"
   ]
  },
  {
   "cell_type": "code",
   "execution_count": 46,
   "id": "8a0602a2",
   "metadata": {},
   "outputs": [],
   "source": [
    "hp[12] = 15"
   ]
  },
  {
   "cell_type": "code",
   "execution_count": 47,
   "id": "c29e0693",
   "metadata": {},
   "outputs": [],
   "source": [
    "hp[12] -= 6/2"
   ]
  },
  {
   "cell_type": "code",
   "execution_count": 48,
   "id": "1b836a93",
   "metadata": {},
   "outputs": [
    {
     "data": {
      "text/plain": [
       "12.0"
      ]
     },
     "execution_count": 48,
     "metadata": {},
     "output_type": "execute_result"
    }
   ],
   "source": [
    "hp[12]"
   ]
  },
  {
   "cell_type": "code",
   "execution_count": 49,
   "id": "0c4949fb",
   "metadata": {},
   "outputs": [
    {
     "data": {
      "text/plain": [
       "12.0"
      ]
     },
     "execution_count": 49,
     "metadata": {},
     "output_type": "execute_result"
    }
   ],
   "source": [
    "hp[12]"
   ]
  },
  {
   "cell_type": "code",
   "execution_count": 50,
   "id": "fd22a2b4",
   "metadata": {},
   "outputs": [],
   "source": [
    "hp[13] -= 3/2"
   ]
  },
  {
   "cell_type": "code",
   "execution_count": 51,
   "id": "8eb983ba",
   "metadata": {},
   "outputs": [
    {
     "data": {
      "text/plain": [
       "12.0"
      ]
     },
     "execution_count": 51,
     "metadata": {},
     "output_type": "execute_result"
    }
   ],
   "source": [
    "hp[13]"
   ]
  },
  {
   "cell_type": "code",
   "execution_count": 52,
   "id": "a0382510",
   "metadata": {},
   "outputs": [],
   "source": [
    "hp[13] -= 11"
   ]
  },
  {
   "cell_type": "code",
   "execution_count": 53,
   "id": "5ccb0d9d",
   "metadata": {},
   "outputs": [
    {
     "data": {
      "text/plain": [
       "1.0"
      ]
     },
     "execution_count": 53,
     "metadata": {},
     "output_type": "execute_result"
    }
   ],
   "source": [
    "hp[13]"
   ]
  },
  {
   "cell_type": "code",
   "execution_count": 54,
   "id": "35edde08",
   "metadata": {},
   "outputs": [
    {
     "data": {
      "text/plain": [
       "1"
      ]
     },
     "execution_count": 54,
     "metadata": {},
     "output_type": "execute_result"
    }
   ],
   "source": [
    "hp[10]"
   ]
  },
  {
   "cell_type": "code",
   "execution_count": 1,
   "id": "d8a404f7",
   "metadata": {},
   "outputs": [
    {
     "ename": "NameError",
     "evalue": "name 'hp' is not defined",
     "output_type": "error",
     "traceback": [
      "\u001b[31m---------------------------------------------------------------------------\u001b[39m",
      "\u001b[31mNameError\u001b[39m                                 Traceback (most recent call last)",
      "\u001b[36mCell\u001b[39m\u001b[36m \u001b[39m\u001b[32mIn[1]\u001b[39m\u001b[32m, line 1\u001b[39m\n\u001b[32m----> \u001b[39m\u001b[32m1\u001b[39m \u001b[43mhp\u001b[49m\n",
      "\u001b[31mNameError\u001b[39m: name 'hp' is not defined"
     ]
    }
   ],
   "source": [
    "hp"
   ]
  },
  {
   "cell_type": "code",
   "execution_count": 3,
   "id": "dcb22ab1",
   "metadata": {},
   "outputs": [],
   "source": [
    "hp = [8 for _ in range(13)]"
   ]
  },
  {
   "cell_type": "code",
   "execution_count": 4,
   "id": "a6c9ffc9",
   "metadata": {},
   "outputs": [
    {
     "data": {
      "text/plain": [
       "[8, 8, 8, 8, 8, 8, 8, 8, 8, 8, 8, 8, 8]"
      ]
     },
     "execution_count": 4,
     "metadata": {},
     "output_type": "execute_result"
    }
   ],
   "source": [
    "hp"
   ]
  },
  {
   "cell_type": "code",
   "execution_count": 6,
   "id": "be885bfb",
   "metadata": {},
   "outputs": [],
   "source": [
    "hp[12] = 20"
   ]
  },
  {
   "cell_type": "code",
   "execution_count": 7,
   "id": "650ac91d",
   "metadata": {},
   "outputs": [],
   "source": [
    "hp[11] = 20"
   ]
  },
  {
   "cell_type": "code",
   "execution_count": 8,
   "id": "f73d7019",
   "metadata": {},
   "outputs": [
    {
     "data": {
      "text/plain": [
       "[8, 8, 8, 8, 8, 8, 8, 8, 8, 8, 8, 20, 20]"
      ]
     },
     "execution_count": 8,
     "metadata": {},
     "output_type": "execute_result"
    }
   ],
   "source": [
    "hp"
   ]
  },
  {
   "cell_type": "code",
   "execution_count": 9,
   "id": "e3025d1e",
   "metadata": {},
   "outputs": [],
   "source": [
    "hp[11] -= 5"
   ]
  },
  {
   "cell_type": "code",
   "execution_count": 10,
   "id": "25a2b878",
   "metadata": {},
   "outputs": [],
   "source": [
    "hp[0] -= 5/2\n",
    "hp[10] -= 5/2\n",
    "hp[2] -= 5/2"
   ]
  },
  {
   "cell_type": "code",
   "execution_count": 11,
   "id": "4a90f4b4",
   "metadata": {},
   "outputs": [
    {
     "data": {
      "text/plain": [
       "[5.5, 8, 5.5, 8, 8, 8, 8, 8, 8, 8, 5.5, 15, 20]"
      ]
     },
     "execution_count": 11,
     "metadata": {},
     "output_type": "execute_result"
    }
   ],
   "source": [
    "hp"
   ]
  },
  {
   "cell_type": "code",
   "execution_count": 12,
   "id": "28b7c3ed",
   "metadata": {},
   "outputs": [],
   "source": [
    "hp[9] -= 11"
   ]
  },
  {
   "cell_type": "code",
   "execution_count": 14,
   "id": "9a0bc18c",
   "metadata": {},
   "outputs": [],
   "source": [
    "hp[8] -= 3"
   ]
  },
  {
   "cell_type": "code",
   "execution_count": 15,
   "id": "b6167ca1",
   "metadata": {},
   "outputs": [
    {
     "data": {
      "text/plain": [
       "[5.5, 8, 5.5, 8, 8, 8, 8, 8, 5, -3, 5.5, 15, 20]"
      ]
     },
     "execution_count": 15,
     "metadata": {},
     "output_type": "execute_result"
    }
   ],
   "source": [
    "hp"
   ]
  },
  {
   "cell_type": "code",
   "execution_count": 16,
   "id": "a476f575",
   "metadata": {},
   "outputs": [],
   "source": [
    "hp[5] -= (11 + 7) "
   ]
  },
  {
   "cell_type": "code",
   "execution_count": 17,
   "id": "c641268c",
   "metadata": {},
   "outputs": [
    {
     "data": {
      "text/plain": [
       "[5.5, 8, 5.5, 8, 8, -10, 8, 8, 5, -3, 5.5, 15, 20]"
      ]
     },
     "execution_count": 17,
     "metadata": {},
     "output_type": "execute_result"
    }
   ],
   "source": [
    "hp"
   ]
  },
  {
   "cell_type": "code",
   "execution_count": 18,
   "id": "f0c7590f",
   "metadata": {},
   "outputs": [],
   "source": [
    "hp[4] -= 7"
   ]
  },
  {
   "cell_type": "code",
   "execution_count": 19,
   "id": "40913c9f",
   "metadata": {},
   "outputs": [],
   "source": [
    "hp[4] -= 1"
   ]
  },
  {
   "cell_type": "code",
   "execution_count": 20,
   "id": "7f6c32f5",
   "metadata": {},
   "outputs": [
    {
     "data": {
      "text/plain": [
       "[5.5, 8, 5.5, 8, 0, -10, 8, 8, 5, -3, 5.5, 15, 20]"
      ]
     },
     "execution_count": 20,
     "metadata": {},
     "output_type": "execute_result"
    }
   ],
   "source": [
    "hp"
   ]
  },
  {
   "cell_type": "code",
   "execution_count": 21,
   "id": "c556d66d",
   "metadata": {},
   "outputs": [
    {
     "data": {
      "text/plain": [
       "[5.5, 8, 5.5, 8, 0, -10, 8, 8, 5, -3, 5.5, 15, 20]"
      ]
     },
     "execution_count": 21,
     "metadata": {},
     "output_type": "execute_result"
    }
   ],
   "source": [
    "hp"
   ]
  },
  {
   "cell_type": "code",
   "execution_count": 23,
   "id": "4efcef8d",
   "metadata": {},
   "outputs": [],
   "source": [
    "hp[1] -= 8"
   ]
  },
  {
   "cell_type": "code",
   "execution_count": 24,
   "id": "de573eff",
   "metadata": {},
   "outputs": [],
   "source": [
    "hp[8] -= 8"
   ]
  },
  {
   "cell_type": "code",
   "execution_count": 26,
   "id": "163578c5",
   "metadata": {},
   "outputs": [],
   "source": [
    "hp[10] -= 6"
   ]
  },
  {
   "cell_type": "code",
   "execution_count": 27,
   "id": "0c212982",
   "metadata": {},
   "outputs": [
    {
     "data": {
      "text/plain": [
       "-0.5"
      ]
     },
     "execution_count": 27,
     "metadata": {},
     "output_type": "execute_result"
    }
   ],
   "source": [
    "hp[10]"
   ]
  },
  {
   "cell_type": "code",
   "execution_count": 28,
   "id": "d5a09ba6",
   "metadata": {},
   "outputs": [],
   "source": [
    "hp[11] -= 5"
   ]
  },
  {
   "cell_type": "code",
   "execution_count": 30,
   "id": "e5343cc7",
   "metadata": {},
   "outputs": [],
   "source": [
    "hp[12] -= 12"
   ]
  },
  {
   "cell_type": "code",
   "execution_count": 31,
   "id": "e932aea6",
   "metadata": {},
   "outputs": [
    {
     "data": {
      "text/plain": [
       "8"
      ]
     },
     "execution_count": 31,
     "metadata": {},
     "output_type": "execute_result"
    }
   ],
   "source": [
    "hp[12]"
   ]
  },
  {
   "cell_type": "code",
   "execution_count": 32,
   "id": "4b8e6a58",
   "metadata": {},
   "outputs": [],
   "source": [
    "hp[4] -= 6"
   ]
  },
  {
   "cell_type": "code",
   "execution_count": null,
   "id": "fda90f60",
   "metadata": {},
   "outputs": [
    {
     "data": {
      "text/plain": [
       "8"
      ]
     },
     "execution_count": 34,
     "metadata": {},
     "output_type": "execute_result"
    }
   ],
   "source": [
    "hp[3] "
   ]
  },
  {
   "cell_type": "code",
   "execution_count": 35,
   "id": "1235b50b",
   "metadata": {},
   "outputs": [
    {
     "data": {
      "text/plain": [
       "[5.5, -8, 5.5, 8, -6, -10, 8, 8, -3, -3, -0.5, 10, 8]"
      ]
     },
     "execution_count": 35,
     "metadata": {},
     "output_type": "execute_result"
    }
   ],
   "source": [
    "hp"
   ]
  },
  {
   "cell_type": "code",
   "execution_count": 37,
   "id": "5b6eaf7a",
   "metadata": {},
   "outputs": [],
   "source": [
    "hp[11]-=10"
   ]
  },
  {
   "cell_type": "code",
   "execution_count": 39,
   "id": "6925579f",
   "metadata": {},
   "outputs": [],
   "source": [
    "hp[9] -= 5\n",
    "hp[0] -= 5\n",
    "hp[7] -= 5"
   ]
  },
  {
   "cell_type": "code",
   "execution_count": 40,
   "id": "b43230b2",
   "metadata": {},
   "outputs": [],
   "source": [
    "hp[3] -= 10"
   ]
  },
  {
   "cell_type": "code",
   "execution_count": 41,
   "id": "cf12d9ec",
   "metadata": {},
   "outputs": [
    {
     "data": {
      "text/plain": [
       "[0.5, -8, 5.5, -2, -6, -10, 8, 3, -3, -8, -0.5, 0, 8]"
      ]
     },
     "execution_count": 41,
     "metadata": {},
     "output_type": "execute_result"
    }
   ],
   "source": [
    "hp"
   ]
  },
  {
   "cell_type": "code",
   "execution_count": 42,
   "id": "df355bfa",
   "metadata": {},
   "outputs": [
    {
     "data": {
      "text/plain": [
       "-8"
      ]
     },
     "execution_count": 42,
     "metadata": {},
     "output_type": "execute_result"
    }
   ],
   "source": [
    "hp[9]"
   ]
  },
  {
   "cell_type": "code",
   "execution_count": 43,
   "id": "4d281c44",
   "metadata": {},
   "outputs": [
    {
     "data": {
      "text/plain": [
       "3"
      ]
     },
     "execution_count": 43,
     "metadata": {},
     "output_type": "execute_result"
    }
   ],
   "source": [
    "hp[7]"
   ]
  },
  {
   "cell_type": "code",
   "execution_count": 44,
   "id": "c9f16f26",
   "metadata": {},
   "outputs": [
    {
     "data": {
      "text/plain": [
       "-2"
      ]
     },
     "execution_count": 44,
     "metadata": {},
     "output_type": "execute_result"
    }
   ],
   "source": [
    "hp[3]"
   ]
  },
  {
   "cell_type": "code",
   "execution_count": 45,
   "id": "bb0de35e",
   "metadata": {},
   "outputs": [
    {
     "data": {
      "text/plain": [
       "-10"
      ]
     },
     "execution_count": 45,
     "metadata": {},
     "output_type": "execute_result"
    }
   ],
   "source": [
    "hp[5]"
   ]
  },
  {
   "cell_type": "code",
   "execution_count": 1,
   "id": "d811a47b",
   "metadata": {},
   "outputs": [
    {
     "ename": "NameError",
     "evalue": "name 'hp' is not defined",
     "output_type": "error",
     "traceback": [
      "\u001b[31m---------------------------------------------------------------------------\u001b[39m",
      "\u001b[31mNameError\u001b[39m                                 Traceback (most recent call last)",
      "\u001b[36mCell\u001b[39m\u001b[36m \u001b[39m\u001b[32mIn[1]\u001b[39m\u001b[32m, line 1\u001b[39m\n\u001b[32m----> \u001b[39m\u001b[32m1\u001b[39m \u001b[43mhp\u001b[49m[\u001b[32m4\u001b[39m]\n",
      "\u001b[31mNameError\u001b[39m: name 'hp' is not defined"
     ]
    }
   ],
   "source": [
    "hp[4]"
   ]
  },
  {
   "cell_type": "code",
   "execution_count": null,
   "id": "5bf305b6",
   "metadata": {},
   "outputs": [],
   "source": [
    "import pandas as pd\n",
    "\n",
    "# Save hp to a CSV file\n",
    "pd.DataFrame({'hp': hp}).to_csv('hp_values.csv', index=False)\n",
    "\n",
    "# Load hp back from the CSV file\n",
    "hp_loaded = pd.read_csv('hp_values.csv')['hp'].tolist()"
   ]
  },
  {
   "cell_type": "code",
   "execution_count": null,
   "id": "c980c567",
   "metadata": {},
   "outputs": [],
   "source": []
  }
 ],
 "metadata": {
  "kernelspec": {
   "display_name": ".venv",
   "language": "python",
   "name": "python3"
  },
  "language_info": {
   "codemirror_mode": {
    "name": "ipython",
    "version": 3
   },
   "file_extension": ".py",
   "mimetype": "text/x-python",
   "name": "python",
   "nbconvert_exporter": "python",
   "pygments_lexer": "ipython3",
   "version": "3.13.5"
  }
 },
 "nbformat": 4,
 "nbformat_minor": 5
}
